{
 "cells": [
  {
   "cell_type": "code",
   "execution_count": null,
   "metadata": {},
   "outputs": [],
   "source": [
    "import json\n",
    "from rich.console import Console\n",
    "from rich.table import Table\n",
    "from rich.panel import Panel\n",
    "from rich import box\n",
    "import time\n",
    "import hashlib\n",
    "import hmac\n",
    "import requests\n",
    "import json"
   ]
  },
  {
   "cell_type": "code",
   "execution_count": null,
   "metadata": {},
   "outputs": [],
   "source": [
    "def gen_sign(method, url, query_string=None, payload_string=None):\n",
    "    sign_path = \"../cred/credentials.json\"\n",
    "\n",
    "    # Read the credentials from the file\n",
    "    with open(sign_path, 'r') as f:\n",
    "        data = json.load(f)\n",
    "        key = data['pub_key']\n",
    "        secret = data['secret_key']\n",
    "\n",
    "    t = time.time()\n",
    "    m = hashlib.sha512()\n",
    "    m.update((payload_string or \"\").encode('utf-8'))\n",
    "    hashed_payload = m.hexdigest()\n",
    "    s = '%s\\n%s\\n%s\\n%s\\n%s' % (method, url, query_string or \"\", hashed_payload, t)\n",
    "    sign = hmac.new(secret.encode('utf-8'), s.encode('utf-8'), hashlib.sha512).hexdigest()\n",
    "    return {'KEY': key, 'Timestamp': str(t), 'SIGN': sign}\n",
    "\n",
    "def get_data():\n",
    "    host = \"https://api.gateio.ws\"\n",
    "    prefix = \"/api/v4\"\n",
    "    headers = {'Accept': 'application/json', 'Content-Type': 'application/json'}\n",
    "\n",
    "    # url = '/account/detail'\n",
    "    url = '/futures/usdt/contract_stats'\n",
    "    query_param = 'contract=BTC_USDT'\n",
    "    r = requests.request('GET', host + prefix + url + \"?\" + query_param, headers=headers)\n",
    "    # print(r.json())\n",
    "    return r.json()"
   ]
  },
  {
   "cell_type": "code",
   "execution_count": null,
   "metadata": {},
   "outputs": [],
   "source": [
    "data = get_data()\n",
    "type(data)"
   ]
  },
  {
   "cell_type": "code",
   "execution_count": null,
   "metadata": {},
   "outputs": [],
   "source": [
    "len(data)"
   ]
  },
  {
   "cell_type": "code",
   "execution_count": null,
   "metadata": {},
   "outputs": [],
   "source": [
    "# coding: utf-8\n",
    "import requests\n",
    "import time\n",
    "import hashlib\n",
    "import hmac\n",
    "\n",
    "host = \"https://api.gateio.ws\"\n",
    "prefix = \"/api/v4\"\n",
    "headers = {'Accept': 'application/json', 'Content-Type': 'application/json'}\n",
    "\n",
    "url = '/futures/usdt/positions'\n",
    "query_param = ''\n",
    "# `gen_sign` 的实现参考认证一章\n",
    "sign_headers = gen_sign('GET', prefix + url, query_param)\n",
    "headers.update(sign_headers)\n",
    "r = requests.request('GET', host + prefix + url, headers=headers)\n",
    "data = r.json()\n",
    "print(data)\n"
   ]
  },
  {
   "cell_type": "code",
   "execution_count": null,
   "metadata": {},
   "outputs": [],
   "source": [
    "# Show all columns\n",
    "[v for v in data[0]]"
   ]
  },
  {
   "cell_type": "code",
   "execution_count": null,
   "metadata": {},
   "outputs": [],
   "source": [
    "# Show position which value is not 0 in contract real time\n",
    "[(v['contract'], v['value'], v['realised_pnl'], v['unrealised_pnl']) for v in data if v['value'] != '0']"
   ]
  },
  {
   "cell_type": "code",
   "execution_count": null,
   "metadata": {},
   "outputs": [],
   "source": [
    "[v for v in data if v['value'] != '0']\n"
   ]
  },
  {
   "cell_type": "code",
   "execution_count": null,
   "metadata": {},
   "outputs": [],
   "source": [
    "# Show contract history:\n",
    "# # coding: utf-8\n",
    "# import requests\n",
    "# import time\n",
    "# import hashlib\n",
    "# import hmac\n",
    "\n",
    "\n",
    "\n",
    "host = \"https://api.gateio.ws\"\n",
    "prefix = \"/api/v4\"\n",
    "headers = {'Accept': 'application/json', 'Content-Type': 'application/json'}\n",
    "\n",
    "url = '/futures/usdt/my_trades'\n",
    "query_param = ''\n",
    "# `gen_sign` 的实现参考认证一章\n",
    "sign_headers = gen_sign('GET', prefix + url, query_param)\n",
    "headers.update(sign_headers)\n",
    "r = requests.request('GET', host + prefix + url, headers=headers)\n",
    "print(r.json())\n",
    "\n",
    "\n",
    "# package above as a function\n",
    "def get_history_contract(url = '/futures/usdt/my_trades'):\n",
    "    host = \"https://api.gateio.ws\"\n",
    "    prefix = \"/api/v4\"\n",
    "    headers = {'Accept': 'application/json', 'Content-Type': 'application/json'}\n",
    "    query_param = ''\n",
    "    sign_headers = gen_sign('GET', prefix + url, query_param)\n",
    "    headers.update(sign_headers)\n",
    "    r = requests.request('GET', host + prefix + url, headers=headers)\n",
    "    return r.json()"
   ]
  },
  {
   "cell_type": "code",
   "execution_count": null,
   "metadata": {},
   "outputs": [],
   "source": [
    "history_data = get_history_contract()\n",
    "len(history_data)"
   ]
  },
  {
   "cell_type": "code",
   "execution_count": null,
   "metadata": {},
   "outputs": [],
   "source": [
    "history_data[0]"
   ]
  },
  {
   "cell_type": "code",
   "execution_count": null,
   "metadata": {},
   "outputs": [],
   "source": [
    "# 查询个人成交记录(时间区间)\n",
    "# coding: utf-8\n",
    "import requests\n",
    "import time\n",
    "import hashlib\n",
    "import hmac\n",
    "\n",
    "host = \"https://api.gateio.ws\"\n",
    "prefix = \"/api/v4\"\n",
    "headers = {'Accept': 'application/json', 'Content-Type': 'application/json'}\n",
    "\n",
    "url = '/futures/usdt/my_trades_timerange'\n",
    "query_param = ''\n",
    "# `gen_sign` 的实现参考认证一章\n",
    "sign_headers = gen_sign('GET', prefix + url, query_param)\n",
    "headers.update(sign_headers)\n",
    "r = requests.request('GET', host + prefix + url, headers=headers)\n",
    "print(r.json())"
   ]
  },
  {
   "cell_type": "code",
   "execution_count": null,
   "metadata": {},
   "outputs": [],
   "source": [
    "# 平倉歷史\n",
    "host = \"https://api.gateio.ws\"\n",
    "prefix = \"/api/v4\"\n",
    "headers = {'Accept': 'application/json', 'Content-Type': 'application/json'}\n",
    "\n",
    "url = '/futures/usdt/position_close'\n",
    "query_param = ''\n",
    "# `gen_sign` 的实现参考认证一章\n",
    "sign_headers = gen_sign('GET', prefix + url, query_param)\n",
    "headers.update(sign_headers)\n",
    "r = requests.request('GET', host + prefix + url, headers=headers)\n",
    "print(r.json())\n",
    "print(len(r.json()))"
   ]
  },
  {
   "cell_type": "code",
   "execution_count": null,
   "metadata": {},
   "outputs": [],
   "source": [
    "# Getting the commission history\n",
    "# coding: utf-8\n",
    "import requests\n",
    "import time\n",
    "import hashlib\n",
    "import hmac\n",
    "\n",
    "host = \"https://api.gateio.ws\"\n",
    "prefix = \"/api/v4\"\n",
    "headers = {'Accept': 'application/json', 'Content-Type': 'application/json'}\n",
    "\n",
    "url = '/rebate/agency/commission_history'\n",
    "query_param = ''\n",
    "# `gen_sign` 的实现参考认证一章\n",
    "sign_headers = gen_sign('GET', prefix + url, query_param)\n",
    "headers.update(sign_headers)\n",
    "r = requests.request('GET', host + prefix + url, headers=headers)\n",
    "print(r.json())\n"
   ]
  }
 ],
 "metadata": {
  "kernelspec": {
   "display_name": "Python 3",
   "language": "python",
   "name": "python3"
  },
  "language_info": {
   "codemirror_mode": {
    "name": "ipython",
    "version": 3
   },
   "file_extension": ".py",
   "mimetype": "text/x-python",
   "name": "python",
   "nbconvert_exporter": "python",
   "pygments_lexer": "ipython3",
   "version": "3.11.2+"
  }
 },
 "nbformat": 4,
 "nbformat_minor": 2
}
